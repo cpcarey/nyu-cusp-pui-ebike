{
 "cells": [
  {
   "cell_type": "code",
   "execution_count": 246,
   "id": "peaceful-queensland",
   "metadata": {},
   "outputs": [],
   "source": [
    "# load all modules\n",
    "import numpy as np\n",
    "import pandas as pd\n",
    "import glob as glob\n",
    "try: #spelling depends on enviroment version \n",
    "    import urllib2 as urllib #URL handling module\n",
    "except ImportError:\n",
    "    import urllib.request as urllib\n",
    "import json"
   ]
  },
  {
   "cell_type": "code",
   "execution_count": 268,
   "id": "devoted-elephant",
   "metadata": {},
   "outputs": [],
   "source": [
    "# find all csv files\n",
    "all_trips = glob.glob(\"./data/raw/DC/*.csv\")\n",
    "all_trips.sort()"
   ]
  },
  {
   "cell_type": "code",
   "execution_count": 269,
   "id": "comic-sensitivity",
   "metadata": {
    "scrolled": true
   },
   "outputs": [
    {
     "name": "stderr",
     "output_type": "stream",
     "text": [
      "C:\\Users\\gtsde\\anaconda3\\envs\\geo_env\\lib\\site-packages\\IPython\\core\\interactiveshell.py:3155: DtypeWarning: Columns (5,7) have mixed types.Specify dtype option on import or set low_memory=False.\n",
      "  has_raised = await self.run_ast_nodes(code_ast.body, cell_name,\n"
     ]
    }
   ],
   "source": [
    "# create a merged list from all csv files\n",
    "washingtonDC_trips = []\n",
    "\n",
    "for trips_file in all_trips:\n",
    "    \n",
    "    # read in trips data\n",
    "    trips_df = pd.read_csv(trips_file, index_col=None, header=0, skipinitialspace=True, usecols=['start_lat', 'start_lng', 'end_lng', 'end_lat', 'start_station_id',\n",
    "    'end_station_id'])\n",
    "    \n",
    "    # append it to the results list\n",
    "    washingtonDC_trips.append(trips_df)"
   ]
  },
  {
   "cell_type": "code",
   "execution_count": 271,
   "id": "directed-northern",
   "metadata": {},
   "outputs": [],
   "source": [
    "# create a merged df from all trips\n",
    "washingtonDC_trips_df = pd.concat(washingtonDC_trips, axis=0, ignore_index=True) "
   ]
  },
  {
   "cell_type": "code",
   "execution_count": 272,
   "id": "advised-attendance",
   "metadata": {},
   "outputs": [
    {
     "data": {
      "text/plain": [
       "(1418520, 6)"
      ]
     },
     "execution_count": 272,
     "metadata": {},
     "output_type": "execute_result"
    }
   ],
   "source": [
    "# dimensions of dataframe\n",
    "washingtonDC_trips_df.shape "
   ]
  },
  {
   "cell_type": "code",
   "execution_count": 273,
   "id": "closed-perfume",
   "metadata": {},
   "outputs": [
    {
     "data": {
      "text/plain": [
       "start_station_id    102989\n",
       "end_station_id      116142\n",
       "start_lat               10\n",
       "start_lng               10\n",
       "end_lat               4728\n",
       "end_lng               4728\n",
       "dtype: int64"
      ]
     },
     "execution_count": 273,
     "metadata": {},
     "output_type": "execute_result"
    }
   ],
   "source": [
    "# find null values\n",
    "washingtonDC_trips_df.isna().sum() "
   ]
  },
  {
   "cell_type": "code",
   "execution_count": 274,
   "id": "fifteen-project",
   "metadata": {},
   "outputs": [
    {
     "data": {
      "text/plain": [
       "(1265145, 6)"
      ]
     },
     "execution_count": 274,
     "metadata": {},
     "output_type": "execute_result"
    }
   ],
   "source": [
    "# drop null values\n",
    "washingtonDC_trips_df.dropna(inplace=True)\n",
    "washingtonDC_trips_df.shape"
   ]
  },
  {
   "cell_type": "code",
   "execution_count": 275,
   "id": "sitting-bankruptcy",
   "metadata": {},
   "outputs": [],
   "source": [
    "# latitude and longitude co-ordinate limits for Washington DC\n",
    "lat_min = 38.806229986847676,\n",
    "lat_max = 38.999466837911626,\n",
    "lng_min = -77.12409668146095,\n",
    "lng_max = -76.90252862586087,"
   ]
  },
  {
   "cell_type": "code",
   "execution_count": 276,
   "id": "dramatic-nudist",
   "metadata": {},
   "outputs": [],
   "source": [
    "#sanity check for values equal to zero\n",
    "washingtonDC_trips_df = washingtonDC_trips_df[(washingtonDC_trips_df['start_lat'] >= lat_min) & (washingtonDC_trips_df['start_lat'] <= lat_max) & \\\n",
    "                      (washingtonDC_trips_df['start_lng'] >= lng_min) & (washingtonDC_trips_df['start_lng'] <= lng_max)]"
   ]
  },
  {
   "cell_type": "code",
   "execution_count": 277,
   "id": "straight-rescue",
   "metadata": {},
   "outputs": [
    {
     "data": {
      "text/plain": [
       "(1232184, 6)"
      ]
     },
     "execution_count": 277,
     "metadata": {},
     "output_type": "execute_result"
    }
   ],
   "source": [
    "# shape check after cleaning\n",
    "washingtonDC_trips_df.shape "
   ]
  },
  {
   "cell_type": "code",
   "execution_count": 278,
   "id": "israeli-platinum",
   "metadata": {},
   "outputs": [],
   "source": [
    "# change datatype of station id to integer\n",
    "washingtonDC_trips_df.start_station_id = washingtonDC_trips_df.start_station_id.astype(int)\n",
    "\n",
    "# remove duplicate stations\n",
    "washingtonDC_stations_df = washingtonDC_trips_df.drop_duplicates(subset = [\"start_station_id\"])"
   ]
  },
  {
   "cell_type": "code",
   "execution_count": 279,
   "id": "sticky-blowing",
   "metadata": {},
   "outputs": [
    {
     "data": {
      "text/plain": [
       "(500, 6)"
      ]
     },
     "execution_count": 279,
     "metadata": {},
     "output_type": "execute_result"
    }
   ],
   "source": [
    "# shape check after dropping duplicates\n",
    "washingtonDC_stations_df.shape"
   ]
  },
  {
   "cell_type": "code",
   "execution_count": 280,
   "id": "aquatic-faculty",
   "metadata": {},
   "outputs": [
    {
     "data": {
      "text/html": [
       "<div>\n",
       "<style scoped>\n",
       "    .dataframe tbody tr th:only-of-type {\n",
       "        vertical-align: middle;\n",
       "    }\n",
       "\n",
       "    .dataframe tbody tr th {\n",
       "        vertical-align: top;\n",
       "    }\n",
       "\n",
       "    .dataframe thead th {\n",
       "        text-align: right;\n",
       "    }\n",
       "</style>\n",
       "<table border=\"1\" class=\"dataframe\">\n",
       "  <thead>\n",
       "    <tr style=\"text-align: right;\">\n",
       "      <th></th>\n",
       "      <th>start_station_id</th>\n",
       "      <th>end_station_id</th>\n",
       "      <th>start_lat</th>\n",
       "      <th>start_lng</th>\n",
       "      <th>end_lat</th>\n",
       "      <th>end_lng</th>\n",
       "    </tr>\n",
       "  </thead>\n",
       "  <tbody>\n",
       "    <tr>\n",
       "      <th>0</th>\n",
       "      <td>31000</td>\n",
       "      <td>31064.0</td>\n",
       "      <td>38.858971</td>\n",
       "      <td>-77.053230</td>\n",
       "      <td>38.865029</td>\n",
       "      <td>-77.039511</td>\n",
       "    </tr>\n",
       "    <tr>\n",
       "      <th>1</th>\n",
       "      <td>31001</td>\n",
       "      <td>31064.0</td>\n",
       "      <td>38.857250</td>\n",
       "      <td>-77.053320</td>\n",
       "      <td>38.865029</td>\n",
       "      <td>-77.039511</td>\n",
       "    </tr>\n",
       "    <tr>\n",
       "      <th>2</th>\n",
       "      <td>31002</td>\n",
       "      <td>31062.0</td>\n",
       "      <td>38.856425</td>\n",
       "      <td>-77.049232</td>\n",
       "      <td>38.896553</td>\n",
       "      <td>-77.067140</td>\n",
       "    </tr>\n",
       "    <tr>\n",
       "      <th>3</th>\n",
       "      <td>31003</td>\n",
       "      <td>31266.0</td>\n",
       "      <td>38.860132</td>\n",
       "      <td>-77.049541</td>\n",
       "      <td>38.905460</td>\n",
       "      <td>-77.027346</td>\n",
       "    </tr>\n",
       "    <tr>\n",
       "      <th>4</th>\n",
       "      <td>31004</td>\n",
       "      <td>31084.0</td>\n",
       "      <td>38.857866</td>\n",
       "      <td>-77.059490</td>\n",
       "      <td>38.802677</td>\n",
       "      <td>-77.063562</td>\n",
       "    </tr>\n",
       "    <tr>\n",
       "      <th>...</th>\n",
       "      <td>...</td>\n",
       "      <td>...</td>\n",
       "      <td>...</td>\n",
       "      <td>...</td>\n",
       "      <td>...</td>\n",
       "      <td>...</td>\n",
       "    </tr>\n",
       "    <tr>\n",
       "      <th>495</th>\n",
       "      <td>32420</td>\n",
       "      <td>32422.0</td>\n",
       "      <td>38.965742</td>\n",
       "      <td>-76.954803</td>\n",
       "      <td>38.968842</td>\n",
       "      <td>-76.954171</td>\n",
       "    </tr>\n",
       "    <tr>\n",
       "      <th>496</th>\n",
       "      <td>32421</td>\n",
       "      <td>32408.0</td>\n",
       "      <td>38.962119</td>\n",
       "      <td>-76.935578</td>\n",
       "      <td>38.959361</td>\n",
       "      <td>-76.946361</td>\n",
       "    </tr>\n",
       "    <tr>\n",
       "      <th>497</th>\n",
       "      <td>32422</td>\n",
       "      <td>32413.0</td>\n",
       "      <td>38.968887</td>\n",
       "      <td>-76.954183</td>\n",
       "      <td>38.939256</td>\n",
       "      <td>-76.955022</td>\n",
       "    </tr>\n",
       "    <tr>\n",
       "      <th>498</th>\n",
       "      <td>32900</td>\n",
       "      <td>32900.0</td>\n",
       "      <td>38.964406</td>\n",
       "      <td>-77.010759</td>\n",
       "      <td>38.964406</td>\n",
       "      <td>-77.010759</td>\n",
       "    </tr>\n",
       "    <tr>\n",
       "      <th>499</th>\n",
       "      <td>32901</td>\n",
       "      <td>31515.0</td>\n",
       "      <td>38.963810</td>\n",
       "      <td>-77.010266</td>\n",
       "      <td>38.952369</td>\n",
       "      <td>-77.002721</td>\n",
       "    </tr>\n",
       "  </tbody>\n",
       "</table>\n",
       "<p>500 rows × 6 columns</p>\n",
       "</div>"
      ],
      "text/plain": [
       "     start_station_id end_station_id  start_lat  start_lng    end_lat  \\\n",
       "0               31000        31064.0  38.858971 -77.053230  38.865029   \n",
       "1               31001        31064.0  38.857250 -77.053320  38.865029   \n",
       "2               31002        31062.0  38.856425 -77.049232  38.896553   \n",
       "3               31003        31266.0  38.860132 -77.049541  38.905460   \n",
       "4               31004        31084.0  38.857866 -77.059490  38.802677   \n",
       "..                ...            ...        ...        ...        ...   \n",
       "495             32420        32422.0  38.965742 -76.954803  38.968842   \n",
       "496             32421        32408.0  38.962119 -76.935578  38.959361   \n",
       "497             32422        32413.0  38.968887 -76.954183  38.939256   \n",
       "498             32900        32900.0  38.964406 -77.010759  38.964406   \n",
       "499             32901        31515.0  38.963810 -77.010266  38.952369   \n",
       "\n",
       "       end_lng  \n",
       "0   -77.039511  \n",
       "1   -77.039511  \n",
       "2   -77.067140  \n",
       "3   -77.027346  \n",
       "4   -77.063562  \n",
       "..         ...  \n",
       "495 -76.954171  \n",
       "496 -76.946361  \n",
       "497 -76.955022  \n",
       "498 -77.010759  \n",
       "499 -77.002721  \n",
       "\n",
       "[500 rows x 6 columns]"
      ]
     },
     "execution_count": 280,
     "metadata": {},
     "output_type": "execute_result"
    }
   ],
   "source": [
    "# sort dataframe and reset index\n",
    "washingtonDC_stations_df = washingtonDC_stations_df.sort_values('start_station_id')\n",
    "washingtonDC_stations_df.reset_index(drop=True, inplace=True)\n",
    "washingtonDC_stations_df"
   ]
  },
  {
   "cell_type": "code",
   "execution_count": 281,
   "id": "abandoned-actress",
   "metadata": {},
   "outputs": [],
   "source": [
    "'''\n",
    "Input: the file that contain origin-destination lat/long information;\n",
    "Output: list of elevation corresponding the input O-D pairs\n",
    "'''\n",
    "\n",
    "s_elv_list = []\n",
    "\n",
    "for index, row in washingtonDC_stations_df.iterrows():\n",
    "    start_lat = row['start_lat']\n",
    "    start_lng = row['start_lng']\n",
    "    end_lat = row['end_lat']\n",
    "    end_lng = row['end_lng']\n",
    "    \n",
    "    url = str('https://router.hereapi.com/v8/routes?apiKey={}&origin={},{}&transportMode=car&destination={},{}&return=elevation'.format(apiKey, start_lat, start_lng, end_lat, end_lng ))\n",
    "    data = urllib.urlopen(url).read().decode('utf-8')\n",
    "    data = json.loads(data)\n",
    "    \n",
    "    # append elevation to 'start' list, nan if no elevation retrieved\n",
    "    try:    \n",
    "        s_elv = data['routes'][0]['sections'][0]['departure']['place']['location']['elv']\n",
    "    except:\n",
    "        s_elv = np.nan\n",
    "        \n",
    "    s_elv_list.append(s_elv)"
   ]
  },
  {
   "cell_type": "code",
   "execution_count": 282,
   "id": "colored-crown",
   "metadata": {},
   "outputs": [],
   "source": [
    "# add start point elevation from list\n",
    "washingtonDC_stations_df['start_station_elv'] = s_elv_list"
   ]
  },
  {
   "cell_type": "code",
   "execution_count": 283,
   "id": "ranging-steam",
   "metadata": {},
   "outputs": [
    {
     "data": {
      "text/html": [
       "<div>\n",
       "<style scoped>\n",
       "    .dataframe tbody tr th:only-of-type {\n",
       "        vertical-align: middle;\n",
       "    }\n",
       "\n",
       "    .dataframe tbody tr th {\n",
       "        vertical-align: top;\n",
       "    }\n",
       "\n",
       "    .dataframe thead th {\n",
       "        text-align: right;\n",
       "    }\n",
       "</style>\n",
       "<table border=\"1\" class=\"dataframe\">\n",
       "  <thead>\n",
       "    <tr style=\"text-align: right;\">\n",
       "      <th></th>\n",
       "      <th>station_id</th>\n",
       "      <th>station_latitude</th>\n",
       "      <th>station_longitude</th>\n",
       "      <th>station_elevation</th>\n",
       "    </tr>\n",
       "  </thead>\n",
       "  <tbody>\n",
       "    <tr>\n",
       "      <th>0</th>\n",
       "      <td>31000</td>\n",
       "      <td>38.858971</td>\n",
       "      <td>-77.053230</td>\n",
       "      <td>-16.0</td>\n",
       "    </tr>\n",
       "    <tr>\n",
       "      <th>1</th>\n",
       "      <td>31001</td>\n",
       "      <td>38.857250</td>\n",
       "      <td>-77.053320</td>\n",
       "      <td>-16.0</td>\n",
       "    </tr>\n",
       "    <tr>\n",
       "      <th>2</th>\n",
       "      <td>31002</td>\n",
       "      <td>38.856425</td>\n",
       "      <td>-77.049232</td>\n",
       "      <td>-16.0</td>\n",
       "    </tr>\n",
       "    <tr>\n",
       "      <th>3</th>\n",
       "      <td>31003</td>\n",
       "      <td>38.860132</td>\n",
       "      <td>-77.049541</td>\n",
       "      <td>-17.0</td>\n",
       "    </tr>\n",
       "    <tr>\n",
       "      <th>4</th>\n",
       "      <td>31004</td>\n",
       "      <td>38.857866</td>\n",
       "      <td>-77.059490</td>\n",
       "      <td>-11.0</td>\n",
       "    </tr>\n",
       "    <tr>\n",
       "      <th>...</th>\n",
       "      <td>...</td>\n",
       "      <td>...</td>\n",
       "      <td>...</td>\n",
       "      <td>...</td>\n",
       "    </tr>\n",
       "    <tr>\n",
       "      <th>495</th>\n",
       "      <td>32420</td>\n",
       "      <td>38.965742</td>\n",
       "      <td>-76.954803</td>\n",
       "      <td>8.0</td>\n",
       "    </tr>\n",
       "    <tr>\n",
       "      <th>496</th>\n",
       "      <td>32421</td>\n",
       "      <td>38.962119</td>\n",
       "      <td>-76.935578</td>\n",
       "      <td>-5.0</td>\n",
       "    </tr>\n",
       "    <tr>\n",
       "      <th>497</th>\n",
       "      <td>32422</td>\n",
       "      <td>38.968887</td>\n",
       "      <td>-76.954183</td>\n",
       "      <td>5.0</td>\n",
       "    </tr>\n",
       "    <tr>\n",
       "      <th>498</th>\n",
       "      <td>32900</td>\n",
       "      <td>38.964406</td>\n",
       "      <td>-77.010759</td>\n",
       "      <td>42.0</td>\n",
       "    </tr>\n",
       "    <tr>\n",
       "      <th>499</th>\n",
       "      <td>32901</td>\n",
       "      <td>38.963810</td>\n",
       "      <td>-77.010266</td>\n",
       "      <td>41.0</td>\n",
       "    </tr>\n",
       "  </tbody>\n",
       "</table>\n",
       "<p>500 rows × 4 columns</p>\n",
       "</div>"
      ],
      "text/plain": [
       "     station_id  station_latitude  station_longitude  station_elevation\n",
       "0         31000         38.858971         -77.053230              -16.0\n",
       "1         31001         38.857250         -77.053320              -16.0\n",
       "2         31002         38.856425         -77.049232              -16.0\n",
       "3         31003         38.860132         -77.049541              -17.0\n",
       "4         31004         38.857866         -77.059490              -11.0\n",
       "..          ...               ...                ...                ...\n",
       "495       32420         38.965742         -76.954803                8.0\n",
       "496       32421         38.962119         -76.935578               -5.0\n",
       "497       32422         38.968887         -76.954183                5.0\n",
       "498       32900         38.964406         -77.010759               42.0\n",
       "499       32901         38.963810         -77.010266               41.0\n",
       "\n",
       "[500 rows x 4 columns]"
      ]
     },
     "execution_count": 283,
     "metadata": {},
     "output_type": "execute_result"
    }
   ],
   "source": [
    "# make changes to dataframe for csv export\n",
    "washingtonDC_stations_df.drop(['end_station_id', 'end_lat', 'end_lng'], axis = 1, inplace=True)\n",
    "washingtonDC_stations_df.rename(columns={'start_station_id': 'station_id', 'start_lat': 'station_latitude', \\\n",
    "                                        'start_lng': 'station_longitude', 'start_station_elv': 'station_elevation'}, inplace=True)\n",
    "washingtonDC_stations_df"
   ]
  },
  {
   "cell_type": "code",
   "execution_count": 284,
   "id": "material-differential",
   "metadata": {
    "scrolled": true
   },
   "outputs": [],
   "source": [
    "# export to csv\n",
    "washingtonDC_stations_df.to_csv('./data/exports/washington_dc_stations_elevation.csv', encoding='utf-8')"
   ]
  },
  {
   "cell_type": "code",
   "execution_count": null,
   "id": "downtown-battery",
   "metadata": {},
   "outputs": [],
   "source": []
  }
 ],
 "metadata": {
  "kernelspec": {
   "display_name": "Python 3",
   "language": "python",
   "name": "python3"
  },
  "language_info": {
   "codemirror_mode": {
    "name": "ipython",
    "version": 3
   },
   "file_extension": ".py",
   "mimetype": "text/x-python",
   "name": "python",
   "nbconvert_exporter": "python",
   "pygments_lexer": "ipython3",
   "version": "3.9.1"
  }
 },
 "nbformat": 4,
 "nbformat_minor": 5
}
