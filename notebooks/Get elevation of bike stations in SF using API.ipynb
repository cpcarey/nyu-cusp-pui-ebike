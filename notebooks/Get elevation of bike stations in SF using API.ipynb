{
 "cells": [
  {
   "cell_type": "code",
   "execution_count": 1,
   "id": "deluxe-papua",
   "metadata": {},
   "outputs": [],
   "source": [
    "# load all modules\n",
    "import numpy as np\n",
    "import pandas as pd\n",
    "import glob as glob\n",
    "try: #spelling depends on enviroment version \n",
    "    import urllib2 as urllib #URL handling module\n",
    "except ImportError:\n",
    "    import urllib.request as urllib\n",
    "import json"
   ]
  },
  {
   "cell_type": "code",
   "execution_count": 2,
   "id": "married-colonial",
   "metadata": {},
   "outputs": [],
   "source": [
    "# find all csv files\n",
    "all_trips = glob.glob(\"./data/raw/SF/*.csv\")\n",
    "all_trips.sort()"
   ]
  },
  {
   "cell_type": "code",
   "execution_count": 3,
   "id": "graphic-chair",
   "metadata": {},
   "outputs": [],
   "source": [
    "# create a merged list from all csv files\n",
    "SF_trips = []\n",
    "\n",
    "for trips_file in all_trips:\n",
    "    \n",
    "    # read in trips data\n",
    "    trips_df = pd.read_csv(trips_file, index_col=None, header=0, skipinitialspace=True, usecols=['start_lat', 'start_lng', 'end_lng', 'end_lat', 'start_station_id',\n",
    "    'end_station_id'])\n",
    "    \n",
    "    # append it to the results list\n",
    "    SF_trips.append(trips_df)"
   ]
  },
  {
   "cell_type": "code",
   "execution_count": 4,
   "id": "controlling-sharing",
   "metadata": {},
   "outputs": [],
   "source": [
    "# create a merged df from all trips\n",
    "SF_trips_df = pd.concat(SF_trips, axis=0, ignore_index=True) "
   ]
  },
  {
   "cell_type": "code",
   "execution_count": 6,
   "id": "resistant-indie",
   "metadata": {},
   "outputs": [
    {
     "data": {
      "text/plain": [
       "(1586016, 6)"
      ]
     },
     "execution_count": 6,
     "metadata": {},
     "output_type": "execute_result"
    }
   ],
   "source": [
    "# dimensions of dataframe\n",
    "SF_trips_df.shape "
   ]
  },
  {
   "cell_type": "code",
   "execution_count": 8,
   "id": "pursuant-heavy",
   "metadata": {},
   "outputs": [
    {
     "data": {
      "text/plain": [
       "start_station_id    475234\n",
       "end_station_id      509286\n",
       "start_lat                0\n",
       "start_lng                0\n",
       "end_lat               1781\n",
       "end_lng               1781\n",
       "dtype: int64"
      ]
     },
     "execution_count": 8,
     "metadata": {},
     "output_type": "execute_result"
    }
   ],
   "source": [
    "# find null values\n",
    "SF_trips_df.isna().sum() "
   ]
  },
  {
   "cell_type": "code",
   "execution_count": 9,
   "id": "framed-lancaster",
   "metadata": {},
   "outputs": [
    {
     "data": {
      "text/plain": [
       "(914833, 6)"
      ]
     },
     "execution_count": 9,
     "metadata": {},
     "output_type": "execute_result"
    }
   ],
   "source": [
    "# drop null values\n",
    "SF_trips_df.dropna(inplace=True)\n",
    "SF_trips_df.shape"
   ]
  },
  {
   "cell_type": "code",
   "execution_count": 11,
   "id": "fresh-difficulty",
   "metadata": {},
   "outputs": [],
   "source": [
    "# Bounding box for San Francisco\n",
    "lat_min = 37.705262390821154\n",
    "lat_max = 37.81066405821323\n",
    "lng_min = -122.5245991704898\n",
    "lng_max = -122.35292764505348"
   ]
  },
  {
   "cell_type": "code",
   "execution_count": 13,
   "id": "applied-search",
   "metadata": {},
   "outputs": [],
   "source": [
    "#sanity check for values equal to zero\n",
    "SF_trips_df = SF_trips_df[(SF_trips_df['start_lat'] >= lat_min) & (SF_trips_df['start_lat'] <= lat_max) & \\\n",
    "                      (SF_trips_df['start_lng'] >= lng_min) & (SF_trips_df['start_lng'] <= lng_max)]"
   ]
  },
  {
   "cell_type": "code",
   "execution_count": 14,
   "id": "clinical-timeline",
   "metadata": {},
   "outputs": [
    {
     "data": {
      "text/plain": [
       "(770918, 6)"
      ]
     },
     "execution_count": 14,
     "metadata": {},
     "output_type": "execute_result"
    }
   ],
   "source": [
    "# shape check after cleaning\n",
    "SF_trips_df.shape "
   ]
  },
  {
   "cell_type": "code",
   "execution_count": 18,
   "id": "blank-summary",
   "metadata": {},
   "outputs": [],
   "source": [
    "# change datatype of station id to integer\n",
    "SF_trips_df.start_station_id = SF_trips_df.start_station_id.astype(str)\n",
    "\n",
    "# remove duplicate stations\n",
    "SF_stations_df = SF_trips_df.drop_duplicates(subset = [\"start_station_id\"])"
   ]
  },
  {
   "cell_type": "code",
   "execution_count": 21,
   "id": "raised-douglas",
   "metadata": {},
   "outputs": [
    {
     "data": {
      "text/plain": [
       "(260, 6)"
      ]
     },
     "execution_count": 21,
     "metadata": {},
     "output_type": "execute_result"
    }
   ],
   "source": [
    "# shape check after dropping duplicates\n",
    "SF_stations_df.shape"
   ]
  },
  {
   "cell_type": "code",
   "execution_count": 22,
   "id": "sudden-comparison",
   "metadata": {},
   "outputs": [
    {
     "data": {
      "text/html": [
       "<div>\n",
       "<style scoped>\n",
       "    .dataframe tbody tr th:only-of-type {\n",
       "        vertical-align: middle;\n",
       "    }\n",
       "\n",
       "    .dataframe tbody tr th {\n",
       "        vertical-align: top;\n",
       "    }\n",
       "\n",
       "    .dataframe thead th {\n",
       "        text-align: right;\n",
       "    }\n",
       "</style>\n",
       "<table border=\"1\" class=\"dataframe\">\n",
       "  <thead>\n",
       "    <tr style=\"text-align: right;\">\n",
       "      <th></th>\n",
       "      <th>start_station_id</th>\n",
       "      <th>end_station_id</th>\n",
       "      <th>start_lat</th>\n",
       "      <th>start_lng</th>\n",
       "      <th>end_lat</th>\n",
       "      <th>end_lng</th>\n",
       "    </tr>\n",
       "  </thead>\n",
       "  <tbody>\n",
       "    <tr>\n",
       "      <th>0</th>\n",
       "      <td>16th Depot Bike Station</td>\n",
       "      <td>16th Depot Bike Station</td>\n",
       "      <td>37.766337</td>\n",
       "      <td>-122.396054</td>\n",
       "      <td>37.766219</td>\n",
       "      <td>-122.396018</td>\n",
       "    </tr>\n",
       "    <tr>\n",
       "      <th>1</th>\n",
       "      <td>16th St Depot</td>\n",
       "      <td>SF-L29</td>\n",
       "      <td>37.754798</td>\n",
       "      <td>-122.389680</td>\n",
       "      <td>37.772456</td>\n",
       "      <td>-122.392689</td>\n",
       "    </tr>\n",
       "    <tr>\n",
       "      <th>2</th>\n",
       "      <td>SF I29-1</td>\n",
       "      <td>SF-G30-1</td>\n",
       "      <td>37.783172</td>\n",
       "      <td>-122.393572</td>\n",
       "      <td>37.788059</td>\n",
       "      <td>-122.391865</td>\n",
       "    </tr>\n",
       "    <tr>\n",
       "      <th>3</th>\n",
       "      <td>SF-A19</td>\n",
       "      <td>SF-H12</td>\n",
       "      <td>37.805230</td>\n",
       "      <td>-122.437259</td>\n",
       "      <td>37.779556</td>\n",
       "      <td>-122.463121</td>\n",
       "    </tr>\n",
       "    <tr>\n",
       "      <th>4</th>\n",
       "      <td>SF-A20</td>\n",
       "      <td>SF-H29</td>\n",
       "      <td>37.804272</td>\n",
       "      <td>-122.433537</td>\n",
       "      <td>37.785377</td>\n",
       "      <td>-122.396906</td>\n",
       "    </tr>\n",
       "    <tr>\n",
       "      <th>...</th>\n",
       "      <td>...</td>\n",
       "      <td>...</td>\n",
       "      <td>...</td>\n",
       "      <td>...</td>\n",
       "      <td>...</td>\n",
       "      <td>...</td>\n",
       "    </tr>\n",
       "    <tr>\n",
       "      <th>255</th>\n",
       "      <td>SF-Y30</td>\n",
       "      <td>SF-Q30</td>\n",
       "      <td>37.729393</td>\n",
       "      <td>-122.386537</td>\n",
       "      <td>37.755367</td>\n",
       "      <td>-122.388795</td>\n",
       "    </tr>\n",
       "    <tr>\n",
       "      <th>256</th>\n",
       "      <td>SF-Z16</td>\n",
       "      <td>SF-U21</td>\n",
       "      <td>37.722555</td>\n",
       "      <td>-122.443727</td>\n",
       "      <td>37.739819</td>\n",
       "      <td>-122.425445</td>\n",
       "    </tr>\n",
       "    <tr>\n",
       "      <th>257</th>\n",
       "      <td>SF-Z28</td>\n",
       "      <td>SF-Y29</td>\n",
       "      <td>37.725404</td>\n",
       "      <td>-122.394058</td>\n",
       "      <td>37.729253</td>\n",
       "      <td>-122.393090</td>\n",
       "    </tr>\n",
       "    <tr>\n",
       "      <th>258</th>\n",
       "      <td>SF-Z6</td>\n",
       "      <td>SF-M11</td>\n",
       "      <td>37.722001</td>\n",
       "      <td>-122.482735</td>\n",
       "      <td>37.764224</td>\n",
       "      <td>-122.467377</td>\n",
       "    </tr>\n",
       "    <tr>\n",
       "      <th>259</th>\n",
       "      <td>SF-Z7</td>\n",
       "      <td>SF-S30</td>\n",
       "      <td>37.720964</td>\n",
       "      <td>-122.478793</td>\n",
       "      <td>37.750135</td>\n",
       "      <td>-122.386489</td>\n",
       "    </tr>\n",
       "  </tbody>\n",
       "</table>\n",
       "<p>260 rows × 6 columns</p>\n",
       "</div>"
      ],
      "text/plain": [
       "            start_station_id           end_station_id  start_lat   start_lng  \\\n",
       "0    16th Depot Bike Station  16th Depot Bike Station  37.766337 -122.396054   \n",
       "1              16th St Depot                   SF-L29  37.754798 -122.389680   \n",
       "2                   SF I29-1                 SF-G30-1  37.783172 -122.393572   \n",
       "3                     SF-A19                   SF-H12  37.805230 -122.437259   \n",
       "4                     SF-A20                   SF-H29  37.804272 -122.433537   \n",
       "..                       ...                      ...        ...         ...   \n",
       "255                   SF-Y30                   SF-Q30  37.729393 -122.386537   \n",
       "256                   SF-Z16                   SF-U21  37.722555 -122.443727   \n",
       "257                   SF-Z28                   SF-Y29  37.725404 -122.394058   \n",
       "258                    SF-Z6                   SF-M11  37.722001 -122.482735   \n",
       "259                    SF-Z7                   SF-S30  37.720964 -122.478793   \n",
       "\n",
       "       end_lat     end_lng  \n",
       "0    37.766219 -122.396018  \n",
       "1    37.772456 -122.392689  \n",
       "2    37.788059 -122.391865  \n",
       "3    37.779556 -122.463121  \n",
       "4    37.785377 -122.396906  \n",
       "..         ...         ...  \n",
       "255  37.755367 -122.388795  \n",
       "256  37.739819 -122.425445  \n",
       "257  37.729253 -122.393090  \n",
       "258  37.764224 -122.467377  \n",
       "259  37.750135 -122.386489  \n",
       "\n",
       "[260 rows x 6 columns]"
      ]
     },
     "execution_count": 22,
     "metadata": {},
     "output_type": "execute_result"
    }
   ],
   "source": [
    "# sort dataframe and reset index\n",
    "SF_stations_df = SF_stations_df.sort_values('start_station_id')\n",
    "SF_stations_df.reset_index(drop=True, inplace=True)\n",
    "SF_stations_df"
   ]
  },
  {
   "cell_type": "code",
   "execution_count": 24,
   "id": "perfect-warning",
   "metadata": {},
   "outputs": [],
   "source": [
    "'''\n",
    "Input: the file that contain origin-destination lat/long information;\n",
    "Output: list of elevation corresponding the input O-D pairs\n",
    "'''\n",
    "apiKey = '90Wycb0HEdciPzdZGzI_mXr87SfpxWj0TGVyAAB2apM'\n",
    "s_elv_list = []\n",
    "\n",
    "for index, row in SF_stations_df.iterrows():\n",
    "    start_lat = row['start_lat']\n",
    "    start_lng = row['start_lng']\n",
    "    end_lat = row['end_lat']\n",
    "    end_lng = row['end_lng']\n",
    "    \n",
    "    url = str('https://router.hereapi.com/v8/routes?apiKey={}&origin={},{}&transportMode=car&destination={},{}&return=elevation'.format(apiKey, start_lat, start_lng, end_lat, end_lng ))\n",
    "    data = urllib.urlopen(url).read().decode('utf-8')\n",
    "    data = json.loads(data)\n",
    "    \n",
    "    # append elevation to 'start' list, nan if no elevation retrieved\n",
    "    try:    \n",
    "        s_elv = data['routes'][0]['sections'][0]['departure']['place']['location']['elv']\n",
    "    except:\n",
    "        s_elv = np.nan\n",
    "        \n",
    "    s_elv_list.append(s_elv)"
   ]
  },
  {
   "cell_type": "code",
   "execution_count": 25,
   "id": "spiritual-target",
   "metadata": {},
   "outputs": [],
   "source": [
    "# add start point elevation from list\n",
    "SF_stations_df['start_station_elv'] = s_elv_list"
   ]
  },
  {
   "cell_type": "code",
   "execution_count": 26,
   "id": "developmental-briefs",
   "metadata": {},
   "outputs": [
    {
     "data": {
      "text/html": [
       "<div>\n",
       "<style scoped>\n",
       "    .dataframe tbody tr th:only-of-type {\n",
       "        vertical-align: middle;\n",
       "    }\n",
       "\n",
       "    .dataframe tbody tr th {\n",
       "        vertical-align: top;\n",
       "    }\n",
       "\n",
       "    .dataframe thead th {\n",
       "        text-align: right;\n",
       "    }\n",
       "</style>\n",
       "<table border=\"1\" class=\"dataframe\">\n",
       "  <thead>\n",
       "    <tr style=\"text-align: right;\">\n",
       "      <th></th>\n",
       "      <th>station_id</th>\n",
       "      <th>station_latitude</th>\n",
       "      <th>station_longitude</th>\n",
       "      <th>station_elevation</th>\n",
       "    </tr>\n",
       "  </thead>\n",
       "  <tbody>\n",
       "    <tr>\n",
       "      <th>0</th>\n",
       "      <td>16th Depot Bike Station</td>\n",
       "      <td>37.766337</td>\n",
       "      <td>-122.396054</td>\n",
       "      <td>0.0</td>\n",
       "    </tr>\n",
       "    <tr>\n",
       "      <th>1</th>\n",
       "      <td>16th St Depot</td>\n",
       "      <td>37.754798</td>\n",
       "      <td>-122.389680</td>\n",
       "      <td>-24.0</td>\n",
       "    </tr>\n",
       "    <tr>\n",
       "      <th>2</th>\n",
       "      <td>SF I29-1</td>\n",
       "      <td>37.783172</td>\n",
       "      <td>-122.393572</td>\n",
       "      <td>-10.0</td>\n",
       "    </tr>\n",
       "    <tr>\n",
       "      <th>3</th>\n",
       "      <td>SF-A19</td>\n",
       "      <td>37.805230</td>\n",
       "      <td>-122.437259</td>\n",
       "      <td>-26.0</td>\n",
       "    </tr>\n",
       "    <tr>\n",
       "      <th>4</th>\n",
       "      <td>SF-A20</td>\n",
       "      <td>37.804272</td>\n",
       "      <td>-122.433537</td>\n",
       "      <td>-19.0</td>\n",
       "    </tr>\n",
       "    <tr>\n",
       "      <th>...</th>\n",
       "      <td>...</td>\n",
       "      <td>...</td>\n",
       "      <td>...</td>\n",
       "      <td>...</td>\n",
       "    </tr>\n",
       "    <tr>\n",
       "      <th>255</th>\n",
       "      <td>SF-Y30</td>\n",
       "      <td>37.729393</td>\n",
       "      <td>-122.386537</td>\n",
       "      <td>-7.0</td>\n",
       "    </tr>\n",
       "    <tr>\n",
       "      <th>256</th>\n",
       "      <td>SF-Z16</td>\n",
       "      <td>37.722555</td>\n",
       "      <td>-122.443727</td>\n",
       "      <td>26.0</td>\n",
       "    </tr>\n",
       "    <tr>\n",
       "      <th>257</th>\n",
       "      <td>SF-Z28</td>\n",
       "      <td>37.725404</td>\n",
       "      <td>-122.394058</td>\n",
       "      <td>-23.0</td>\n",
       "    </tr>\n",
       "    <tr>\n",
       "      <th>258</th>\n",
       "      <td>SF-Z6</td>\n",
       "      <td>37.722001</td>\n",
       "      <td>-122.482735</td>\n",
       "      <td>1.0</td>\n",
       "    </tr>\n",
       "    <tr>\n",
       "      <th>259</th>\n",
       "      <td>SF-Z7</td>\n",
       "      <td>37.720964</td>\n",
       "      <td>-122.478793</td>\n",
       "      <td>10.0</td>\n",
       "    </tr>\n",
       "  </tbody>\n",
       "</table>\n",
       "<p>260 rows × 4 columns</p>\n",
       "</div>"
      ],
      "text/plain": [
       "                  station_id  station_latitude  station_longitude  \\\n",
       "0    16th Depot Bike Station         37.766337        -122.396054   \n",
       "1              16th St Depot         37.754798        -122.389680   \n",
       "2                   SF I29-1         37.783172        -122.393572   \n",
       "3                     SF-A19         37.805230        -122.437259   \n",
       "4                     SF-A20         37.804272        -122.433537   \n",
       "..                       ...               ...                ...   \n",
       "255                   SF-Y30         37.729393        -122.386537   \n",
       "256                   SF-Z16         37.722555        -122.443727   \n",
       "257                   SF-Z28         37.725404        -122.394058   \n",
       "258                    SF-Z6         37.722001        -122.482735   \n",
       "259                    SF-Z7         37.720964        -122.478793   \n",
       "\n",
       "     station_elevation  \n",
       "0                  0.0  \n",
       "1                -24.0  \n",
       "2                -10.0  \n",
       "3                -26.0  \n",
       "4                -19.0  \n",
       "..                 ...  \n",
       "255               -7.0  \n",
       "256               26.0  \n",
       "257              -23.0  \n",
       "258                1.0  \n",
       "259               10.0  \n",
       "\n",
       "[260 rows x 4 columns]"
      ]
     },
     "execution_count": 26,
     "metadata": {},
     "output_type": "execute_result"
    }
   ],
   "source": [
    "# make changes to dataframe for csv export\n",
    "SF_stations_df.drop(['end_station_id', 'end_lat', 'end_lng'], axis = 1, inplace=True)\n",
    "SF_stations_df.rename(columns={'start_station_id': 'station_id', 'start_lat': 'station_latitude', \\\n",
    "                                        'start_lng': 'station_longitude', 'start_station_elv': 'station_elevation'}, inplace=True)\n",
    "SF_stations_df"
   ]
  },
  {
   "cell_type": "code",
   "execution_count": 28,
   "id": "cheap-missouri",
   "metadata": {},
   "outputs": [],
   "source": [
    "# export to csv\n",
    "SF_stations_df.to_csv('./data/exports/sf_stations_elevation.csv', encoding='utf-8', index=False)"
   ]
  },
  {
   "cell_type": "code",
   "execution_count": null,
   "id": "hazardous-jacksonville",
   "metadata": {},
   "outputs": [],
   "source": []
  }
 ],
 "metadata": {
  "kernelspec": {
   "display_name": "Python 3",
   "language": "python",
   "name": "python3"
  },
  "language_info": {
   "codemirror_mode": {
    "name": "ipython",
    "version": 3
   },
   "file_extension": ".py",
   "mimetype": "text/x-python",
   "name": "python",
   "nbconvert_exporter": "python",
   "pygments_lexer": "ipython3",
   "version": "3.9.1"
  }
 },
 "nbformat": 4,
 "nbformat_minor": 5
}
