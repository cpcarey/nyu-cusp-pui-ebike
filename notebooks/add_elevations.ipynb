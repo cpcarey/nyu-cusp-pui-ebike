{
 "cells": [
  {
   "cell_type": "code",
   "execution_count": 1,
   "metadata": {
    "colab": {
     "base_uri": "https://localhost:8080/"
    },
    "executionInfo": {
     "elapsed": 9049,
     "status": "ok",
     "timestamp": 1618335813615,
     "user": {
      "displayName": "Jaehee Kim",
      "photoUrl": "",
      "userId": "18030231322356011220"
     },
     "user_tz": 240
    },
    "id": "cNr5VDqrBnBc",
    "outputId": "36be5a8a-3c64-4ce0-a856-814765958b17"
   },
   "outputs": [],
   "source": [
    "# Determine if running in Google Colab\n",
    "try:\n",
    "    import google.colab\n",
    "    from google.colab import drive\n",
    "    drive.mount('/content/drive')\n",
    "    ROOT_DIR = '/content/drive/MyDrive'\n",
    "    COLAB = True\n",
    "except:\n",
    "    ROOT_DIR = '..'\n",
    "    COLAB = False"
   ]
  },
  {
   "cell_type": "code",
   "execution_count": 2,
   "metadata": {},
   "outputs": [],
   "source": [
    "def get_path(relative_path):\n",
    "    return '{}/{}'.format(ROOT_DIR, relative_path)\n",
    "\n",
    "\n",
    "def summarize_df(df):\n",
    "    display(df.head())\n",
    "    print('Number of rows: {}'.format(len(df)))"
   ]
  },
  {
   "cell_type": "code",
   "execution_count": 3,
   "metadata": {},
   "outputs": [],
   "source": [
    "if COLAB:\n",
    "    !pip install geopandas"
   ]
  },
  {
   "cell_type": "code",
   "execution_count": 4,
   "metadata": {
    "executionInfo": {
     "elapsed": 10085,
     "status": "ok",
     "timestamp": 1618335814655,
     "user": {
      "displayName": "Jaehee Kim",
      "photoUrl": "",
      "userId": "18030231322356011220"
     },
     "user_tz": 240
    },
    "id": "ZPK5A1-VBiNb"
   },
   "outputs": [],
   "source": [
    "import pandas as pd\n",
    "import geopandas as gpd\n",
    "import numpy as np\n",
    "import os\n",
    "import urllib\n",
    "from shapely.geometry import Point\n",
    "import geopy.distance\n",
    "from geopy import distance\n",
    "from geopy import Point\n",
    "import matplotlib.pyplot as plt\n",
    "from scipy import stats\n",
    "import seaborn as sns\n",
    "import json\n",
    "import urllib\n",
    "import urllib.request"
   ]
  },
  {
   "cell_type": "markdown",
   "metadata": {
    "id": "6FSsNlFwclVA"
   },
   "source": [
    "# spatial join"
   ]
  },
  {
   "cell_type": "code",
   "execution_count": 7,
   "metadata": {
    "colab": {
     "base_uri": "https://localhost:8080/",
     "height": 419
    },
    "executionInfo": {
     "elapsed": 11967,
     "status": "ok",
     "timestamp": 1618335816597,
     "user": {
      "displayName": "Jaehee Kim",
      "photoUrl": "",
      "userId": "18030231322356011220"
     },
     "user_tz": 240
    },
    "id": "l9OuR-qJi1pr",
    "outputId": "93695cd7-210f-43ec-8e78-9a1aee57d232"
   },
   "outputs": [
    {
     "data": {
      "text/html": [
       "<div>\n",
       "<style scoped>\n",
       "    .dataframe tbody tr th:only-of-type {\n",
       "        vertical-align: middle;\n",
       "    }\n",
       "\n",
       "    .dataframe tbody tr th {\n",
       "        vertical-align: top;\n",
       "    }\n",
       "\n",
       "    .dataframe thead th {\n",
       "        text-align: right;\n",
       "    }\n",
       "</style>\n",
       "<table border=\"1\" class=\"dataframe\">\n",
       "  <thead>\n",
       "    <tr style=\"text-align: right;\">\n",
       "      <th></th>\n",
       "      <th>station_id</th>\n",
       "      <th>lat</th>\n",
       "      <th>lng</th>\n",
       "    </tr>\n",
       "  </thead>\n",
       "  <tbody>\n",
       "    <tr>\n",
       "      <th>0</th>\n",
       "      <td>31267</td>\n",
       "      <td>38.908147</td>\n",
       "      <td>-77.038370</td>\n",
       "    </tr>\n",
       "    <tr>\n",
       "      <th>1</th>\n",
       "      <td>31250</td>\n",
       "      <td>38.903552</td>\n",
       "      <td>-77.044822</td>\n",
       "    </tr>\n",
       "    <tr>\n",
       "      <th>2</th>\n",
       "      <td>31224</td>\n",
       "      <td>38.903723</td>\n",
       "      <td>-77.042440</td>\n",
       "    </tr>\n",
       "    <tr>\n",
       "      <th>3</th>\n",
       "      <td>31221</td>\n",
       "      <td>38.905062</td>\n",
       "      <td>-77.041768</td>\n",
       "    </tr>\n",
       "    <tr>\n",
       "      <th>4</th>\n",
       "      <td>31212</td>\n",
       "      <td>38.905726</td>\n",
       "      <td>-77.047290</td>\n",
       "    </tr>\n",
       "  </tbody>\n",
       "</table>\n",
       "</div>"
      ],
      "text/plain": [
       "   station_id        lat        lng\n",
       "0       31267  38.908147 -77.038370\n",
       "1       31250  38.903552 -77.044822\n",
       "2       31224  38.903723 -77.042440\n",
       "3       31221  38.905062 -77.041768\n",
       "4       31212  38.905726 -77.047290"
      ]
     },
     "metadata": {},
     "output_type": "display_data"
    },
    {
     "name": "stdout",
     "output_type": "stream",
     "text": [
      "Number of rows: 324\n"
     ]
    }
   ],
   "source": [
    "st = pd.read_csv(get_path('data/exports/stations_washington_dc.csv'))\n",
    "summarize_df(st)"
   ]
  },
  {
   "cell_type": "code",
   "execution_count": 8,
   "metadata": {
    "colab": {
     "base_uri": "https://localhost:8080/",
     "height": 204
    },
    "executionInfo": {
     "elapsed": 22892,
     "status": "ok",
     "timestamp": 1618335827530,
     "user": {
      "displayName": "Jaehee Kim",
      "photoUrl": "",
      "userId": "18030231322356011220"
     },
     "user_tz": 240
    },
    "id": "_EmxYDd-dxtc",
    "outputId": "f5a90b20-70af-4494-8ae3-7e1c64773514"
   },
   "outputs": [
    {
     "data": {
      "text/html": [
       "<div>\n",
       "<style scoped>\n",
       "    .dataframe tbody tr th:only-of-type {\n",
       "        vertical-align: middle;\n",
       "    }\n",
       "\n",
       "    .dataframe tbody tr th {\n",
       "        vertical-align: top;\n",
       "    }\n",
       "\n",
       "    .dataframe thead th {\n",
       "        text-align: right;\n",
       "    }\n",
       "</style>\n",
       "<table border=\"1\" class=\"dataframe\">\n",
       "  <thead>\n",
       "    <tr style=\"text-align: right;\">\n",
       "      <th></th>\n",
       "      <th>DN</th>\n",
       "      <th>geometry</th>\n",
       "    </tr>\n",
       "  </thead>\n",
       "  <tbody>\n",
       "    <tr>\n",
       "      <th>0</th>\n",
       "      <td>108</td>\n",
       "      <td>POLYGON ((-77.19001 39.03013, -77.18956 39.030...</td>\n",
       "    </tr>\n",
       "    <tr>\n",
       "      <th>1</th>\n",
       "      <td>101</td>\n",
       "      <td>POLYGON ((-77.18876 39.03013, -77.18867 39.030...</td>\n",
       "    </tr>\n",
       "    <tr>\n",
       "      <th>2</th>\n",
       "      <td>100</td>\n",
       "      <td>POLYGON ((-77.18867 39.03013, -77.18858 39.030...</td>\n",
       "    </tr>\n",
       "    <tr>\n",
       "      <th>3</th>\n",
       "      <td>101</td>\n",
       "      <td>POLYGON ((-77.18813 39.03013, -77.18795 39.030...</td>\n",
       "    </tr>\n",
       "    <tr>\n",
       "      <th>4</th>\n",
       "      <td>105</td>\n",
       "      <td>POLYGON ((-77.18777 39.03013, -77.18768 39.030...</td>\n",
       "    </tr>\n",
       "  </tbody>\n",
       "</table>\n",
       "</div>"
      ],
      "text/plain": [
       "    DN                                           geometry\n",
       "0  108  POLYGON ((-77.19001 39.03013, -77.18956 39.030...\n",
       "1  101  POLYGON ((-77.18876 39.03013, -77.18867 39.030...\n",
       "2  100  POLYGON ((-77.18867 39.03013, -77.18858 39.030...\n",
       "3  101  POLYGON ((-77.18813 39.03013, -77.18795 39.030...\n",
       "4  105  POLYGON ((-77.18777 39.03013, -77.18768 39.030..."
      ]
     },
     "metadata": {},
     "output_type": "display_data"
    },
    {
     "name": "stdout",
     "output_type": "stream",
     "text": [
      "Number of rows: 960022\n"
     ]
    }
   ],
   "source": [
    "dem = gpd.read_file(get_path('data/shapefiles/dem/DC_final_DEM.shp'))\n",
    "summarize_df(dem)"
   ]
  },
  {
   "cell_type": "code",
   "execution_count": 9,
   "metadata": {
    "colab": {
     "base_uri": "https://localhost:8080/",
     "height": 204
    },
    "executionInfo": {
     "elapsed": 272,
     "status": "ok",
     "timestamp": 1618336778273,
     "user": {
      "displayName": "Jaehee Kim",
      "photoUrl": "",
      "userId": "18030231322356011220"
     },
     "user_tz": 240
    },
    "id": "RnbbReo7iAHS",
    "outputId": "83bf8f62-d45c-4464-e60f-a7634bbbd47b"
   },
   "outputs": [
    {
     "data": {
      "text/html": [
       "<div>\n",
       "<style scoped>\n",
       "    .dataframe tbody tr th:only-of-type {\n",
       "        vertical-align: middle;\n",
       "    }\n",
       "\n",
       "    .dataframe tbody tr th {\n",
       "        vertical-align: top;\n",
       "    }\n",
       "\n",
       "    .dataframe thead th {\n",
       "        text-align: right;\n",
       "    }\n",
       "</style>\n",
       "<table border=\"1\" class=\"dataframe\">\n",
       "  <thead>\n",
       "    <tr style=\"text-align: right;\">\n",
       "      <th></th>\n",
       "      <th>station_id</th>\n",
       "      <th>lat</th>\n",
       "      <th>lng</th>\n",
       "      <th>geometry</th>\n",
       "    </tr>\n",
       "  </thead>\n",
       "  <tbody>\n",
       "    <tr>\n",
       "      <th>0</th>\n",
       "      <td>31267</td>\n",
       "      <td>38.908147</td>\n",
       "      <td>-77.038370</td>\n",
       "      <td>POINT (-77.03837 38.90815)</td>\n",
       "    </tr>\n",
       "    <tr>\n",
       "      <th>1</th>\n",
       "      <td>31250</td>\n",
       "      <td>38.903552</td>\n",
       "      <td>-77.044822</td>\n",
       "      <td>POINT (-77.04482 38.90355)</td>\n",
       "    </tr>\n",
       "    <tr>\n",
       "      <th>2</th>\n",
       "      <td>31224</td>\n",
       "      <td>38.903723</td>\n",
       "      <td>-77.042440</td>\n",
       "      <td>POINT (-77.04244 38.90372)</td>\n",
       "    </tr>\n",
       "    <tr>\n",
       "      <th>3</th>\n",
       "      <td>31221</td>\n",
       "      <td>38.905062</td>\n",
       "      <td>-77.041768</td>\n",
       "      <td>POINT (-77.04177 38.90506)</td>\n",
       "    </tr>\n",
       "    <tr>\n",
       "      <th>4</th>\n",
       "      <td>31212</td>\n",
       "      <td>38.905726</td>\n",
       "      <td>-77.047290</td>\n",
       "      <td>POINT (-77.04729 38.90573)</td>\n",
       "    </tr>\n",
       "  </tbody>\n",
       "</table>\n",
       "</div>"
      ],
      "text/plain": [
       "   station_id        lat        lng                    geometry\n",
       "0       31267  38.908147 -77.038370  POINT (-77.03837 38.90815)\n",
       "1       31250  38.903552 -77.044822  POINT (-77.04482 38.90355)\n",
       "2       31224  38.903723 -77.042440  POINT (-77.04244 38.90372)\n",
       "3       31221  38.905062 -77.041768  POINT (-77.04177 38.90506)\n",
       "4       31212  38.905726 -77.047290  POINT (-77.04729 38.90573)"
      ]
     },
     "execution_count": 9,
     "metadata": {},
     "output_type": "execute_result"
    }
   ],
   "source": [
    "geometry = gpd.points_from_xy(st.lng, st.lat)\n",
    "gdf_dt = gpd.GeoDataFrame(st, geometry=geometry).set_crs('EPSG:4326')\n",
    "gdf_dt.head()"
   ]
  },
  {
   "cell_type": "code",
   "execution_count": 10,
   "metadata": {
    "colab": {
     "base_uri": "https://localhost:8080/",
     "height": 440
    },
    "executionInfo": {
     "elapsed": 613,
     "status": "ok",
     "timestamp": 1618336780562,
     "user": {
      "displayName": "Jaehee Kim",
      "photoUrl": "",
      "userId": "18030231322356011220"
     },
     "user_tz": 240
    },
    "id": "q7d_YYoPif20",
    "outputId": "2d001543-f744-4b53-f381-d6202eac3a75"
   },
   "outputs": [
    {
     "data": {
      "text/plain": [
       "<AxesSubplot:>"
      ]
     },
     "execution_count": 10,
     "metadata": {},
     "output_type": "execute_result"
    },
    {
     "data": {
      "image/png": "[encoded data removed]",
      "text/plain": [
       "<Figure size 576x576 with 1 Axes>"
      ]
     },
     "metadata": {
      "needs_background": "light"
     },
     "output_type": "display_data"
    }
   ],
   "source": [
    "gdf_dt.plot(figsize=(8,8))"
   ]
  },
  {
   "cell_type": "code",
   "execution_count": 11,
   "metadata": {
    "colab": {
     "base_uri": "https://localhost:8080/"
    },
    "executionInfo": {
     "elapsed": 462,
     "status": "ok",
     "timestamp": 1618336784124,
     "user": {
      "displayName": "Jaehee Kim",
      "photoUrl": "",
      "userId": "18030231322356011220"
     },
     "user_tz": 240
    },
    "id": "EzJbzLmKXxU6",
    "outputId": "39e9029c-63fc-4211-e78d-4241b899c218"
   },
   "outputs": [
    {
     "data": {
      "text/plain": [
       "<Geographic 2D CRS: EPSG:4326>\n",
       "Name: WGS 84\n",
       "Axis Info [ellipsoidal]:\n",
       "- Lat[north]: Geodetic latitude (degree)\n",
       "- Lon[east]: Geodetic longitude (degree)\n",
       "Area of Use:\n",
       "- name: World\n",
       "- bounds: (-180.0, -90.0, 180.0, 90.0)\n",
       "Datum: World Geodetic System 1984\n",
       "- Ellipsoid: WGS 84\n",
       "- Prime Meridian: Greenwich"
      ]
     },
     "execution_count": 11,
     "metadata": {},
     "output_type": "execute_result"
    }
   ],
   "source": [
    "gdf_dt.crs"
   ]
  },
  {
   "cell_type": "code",
   "execution_count": 12,
   "metadata": {
    "colab": {
     "base_uri": "https://localhost:8080/"
    },
    "executionInfo": {
     "elapsed": 368,
     "status": "ok",
     "timestamp": 1618336540400,
     "user": {
      "displayName": "Jaehee Kim",
      "photoUrl": "",
      "userId": "18030231322356011220"
     },
     "user_tz": 240
    },
    "id": "3hHQTCyqX8rm",
    "outputId": "788318ef-8ba5-4fd1-9da7-61f0ec55e972"
   },
   "outputs": [
    {
     "data": {
      "text/plain": [
       "<Geographic 2D CRS: EPSG:4326>\n",
       "Name: WGS 84\n",
       "Axis Info [ellipsoidal]:\n",
       "- Lat[north]: Geodetic latitude (degree)\n",
       "- Lon[east]: Geodetic longitude (degree)\n",
       "Area of Use:\n",
       "- name: World\n",
       "- bounds: (-180.0, -90.0, 180.0, 90.0)\n",
       "Datum: World Geodetic System 1984\n",
       "- Ellipsoid: WGS 84\n",
       "- Prime Meridian: Greenwich"
      ]
     },
     "execution_count": 12,
     "metadata": {},
     "output_type": "execute_result"
    }
   ],
   "source": [
    "dem.crs"
   ]
  },
  {
   "cell_type": "code",
   "execution_count": 13,
   "metadata": {
    "colab": {
     "base_uri": "https://localhost:8080/",
     "height": 502
    },
    "executionInfo": {
     "elapsed": 272,
     "status": "error",
     "timestamp": 1618336787389,
     "user": {
      "displayName": "Jaehee Kim",
      "photoUrl": "",
      "userId": "18030231322356011220"
     },
     "user_tz": 240
    },
    "id": "0budRajCig6B",
    "outputId": "b8f8a0f7-53f7-4f9d-afa1-db1c8c44a440"
   },
   "outputs": [
    {
     "data": {
      "text/html": [
       "<div>\n",
       "<style scoped>\n",
       "    .dataframe tbody tr th:only-of-type {\n",
       "        vertical-align: middle;\n",
       "    }\n",
       "\n",
       "    .dataframe tbody tr th {\n",
       "        vertical-align: top;\n",
       "    }\n",
       "\n",
       "    .dataframe thead th {\n",
       "        text-align: right;\n",
       "    }\n",
       "</style>\n",
       "<table border=\"1\" class=\"dataframe\">\n",
       "  <thead>\n",
       "    <tr style=\"text-align: right;\">\n",
       "      <th></th>\n",
       "      <th>station_id</th>\n",
       "      <th>lat</th>\n",
       "      <th>lng</th>\n",
       "      <th>geometry</th>\n",
       "      <th>index_right</th>\n",
       "      <th>DN</th>\n",
       "    </tr>\n",
       "  </thead>\n",
       "  <tbody>\n",
       "    <tr>\n",
       "      <th>0</th>\n",
       "      <td>31267</td>\n",
       "      <td>38.908147</td>\n",
       "      <td>-77.038370</td>\n",
       "      <td>POINT (-77.03837 38.90815)</td>\n",
       "      <td>556590</td>\n",
       "      <td>22</td>\n",
       "    </tr>\n",
       "    <tr>\n",
       "      <th>156</th>\n",
       "      <td>31298</td>\n",
       "      <td>38.905414</td>\n",
       "      <td>-77.034643</td>\n",
       "      <td>POINT (-77.03464 38.90541)</td>\n",
       "      <td>556590</td>\n",
       "      <td>22</td>\n",
       "    </tr>\n",
       "    <tr>\n",
       "      <th>1</th>\n",
       "      <td>31250</td>\n",
       "      <td>38.903552</td>\n",
       "      <td>-77.044822</td>\n",
       "      <td>POINT (-77.04482 38.90355)</td>\n",
       "      <td>560395</td>\n",
       "      <td>15</td>\n",
       "    </tr>\n",
       "    <tr>\n",
       "      <th>2</th>\n",
       "      <td>31224</td>\n",
       "      <td>38.903723</td>\n",
       "      <td>-77.042440</td>\n",
       "      <td>POINT (-77.04244 38.90372)</td>\n",
       "      <td>563723</td>\n",
       "      <td>17</td>\n",
       "    </tr>\n",
       "    <tr>\n",
       "      <th>3</th>\n",
       "      <td>31221</td>\n",
       "      <td>38.905062</td>\n",
       "      <td>-77.041768</td>\n",
       "      <td>POINT (-77.04177 38.90506)</td>\n",
       "      <td>563723</td>\n",
       "      <td>17</td>\n",
       "    </tr>\n",
       "  </tbody>\n",
       "</table>\n",
       "</div>"
      ],
      "text/plain": [
       "     station_id        lat        lng                    geometry  \\\n",
       "0         31267  38.908147 -77.038370  POINT (-77.03837 38.90815)   \n",
       "156       31298  38.905414 -77.034643  POINT (-77.03464 38.90541)   \n",
       "1         31250  38.903552 -77.044822  POINT (-77.04482 38.90355)   \n",
       "2         31224  38.903723 -77.042440  POINT (-77.04244 38.90372)   \n",
       "3         31221  38.905062 -77.041768  POINT (-77.04177 38.90506)   \n",
       "\n",
       "     index_right  DN  \n",
       "0         556590  22  \n",
       "156       556590  22  \n",
       "1         560395  15  \n",
       "2         563723  17  \n",
       "3         563723  17  "
      ]
     },
     "metadata": {},
     "output_type": "display_data"
    },
    {
     "name": "stdout",
     "output_type": "stream",
     "text": [
      "Number of rows: 324\n"
     ]
    }
   ],
   "source": [
    "dt_join2 = gpd.sjoin(gdf_dt, dem, op='within')\n",
    "summarize_df(dt_join2)"
   ]
  },
  {
   "cell_type": "code",
   "execution_count": 14,
   "metadata": {
    "executionInfo": {
     "elapsed": 23697,
     "status": "aborted",
     "timestamp": 1618335828359,
     "user": {
      "displayName": "Jaehee Kim",
      "photoUrl": "",
      "userId": "18030231322356011220"
     },
     "user_tz": 240
    },
    "id": "FVuok3rWpxwN"
   },
   "outputs": [],
   "source": [
    "dt_join2 = dt_join2[dt_join2['station_id'].notnull()]\n",
    "dt_join2_csv = dt_join2[['station_id', 'lat', 'lng', 'DN']].copy()\n",
    "dt_join2_csv.rename(columns={'DN': 'elevation'}, inplace=True)\n",
    "dt_join2_csv.to_csv(get_path('data/exports/DC_ele_single station.csv'), index=False)"
   ]
  },
  {
   "cell_type": "code",
   "execution_count": null,
   "metadata": {},
   "outputs": [],
   "source": []
  }
 ],
 "metadata": {
  "colab": {
   "authorship_tag": "ABX9TyMwc6pq5qVuOAuFtmlWak9+",
   "collapsed_sections": [],
   "mount_file_id": "19X0gW3LQdVn-73SAsmd0mmxP3Nfk-Nym",
   "name": "SF elevation.ipynb",
   "provenance": []
  },
  "kernelspec": {
   "display_name": "Python 3",
   "language": "python",
   "name": "python3"
  },
  "language_info": {
   "codemirror_mode": {
    "name": "ipython",
    "version": 3
   },
   "file_extension": ".py",
   "mimetype": "text/x-python",
   "name": "python",
   "nbconvert_exporter": "python",
   "pygments_lexer": "ipython3",
   "version": "3.7.6"
  }
 },
 "nbformat": 4,
 "nbformat_minor": 4
}
