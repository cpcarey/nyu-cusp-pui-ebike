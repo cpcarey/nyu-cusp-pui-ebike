{
 "cells": [
  {
   "cell_type": "code",
   "execution_count": 1,
   "metadata": {
    "colab": {
     "base_uri": "https://localhost:8080/"
    },
    "executionInfo": {
     "elapsed": 9049,
     "status": "ok",
     "timestamp": 1618335813615,
     "user": {
      "displayName": "Jaehee Kim",
      "photoUrl": "",
      "userId": "18030231322356011220"
     },
     "user_tz": 240
    },
    "id": "cNr5VDqrBnBc",
    "outputId": "36be5a8a-3c64-4ce0-a856-814765958b17"
   },
   "outputs": [],
   "source": [
    "# Determine if running in Google Colab\n",
    "try:\n",
    "    import google.colab\n",
    "    from google.colab import drive\n",
    "    drive.mount('/content/drive')\n",
    "    ROOT_DIR = '/content/drive/MyDrive'\n",
    "    COLAB = True\n",
    "except:\n",
    "    ROOT_DIR = '..'\n",
    "    COLAB = False"
   ]
  },
  {
   "cell_type": "code",
   "execution_count": 2,
   "metadata": {},
   "outputs": [],
   "source": [
    "def get_path(relative_path):\n",
    "    return '{}/{}'.format(ROOT_DIR, relative_path)\n",
    "\n",
    "\n",
    "def summarize_df(df):\n",
    "    display(df.head())\n",
    "    print('Number of rows: {}'.format(len(df)))"
   ]
  },
  {
   "cell_type": "code",
   "execution_count": 3,
   "metadata": {},
   "outputs": [],
   "source": [
    "if COLAB:\n",
    "    !pip install geopandas"
   ]
  },
  {
   "cell_type": "code",
   "execution_count": 4,
   "metadata": {
    "executionInfo": {
     "elapsed": 10085,
     "status": "ok",
     "timestamp": 1618335814655,
     "user": {
      "displayName": "Jaehee Kim",
      "photoUrl": "",
      "userId": "18030231322356011220"
     },
     "user_tz": 240
    },
    "id": "ZPK5A1-VBiNb"
   },
   "outputs": [],
   "source": [
    "import pandas as pd\n",
    "import geopandas as gpd\n",
    "import numpy as np\n",
    "import os\n",
    "import urllib\n",
    "from shapely.geometry import Point\n",
    "import geopy.distance\n",
    "from geopy import distance\n",
    "from geopy import Point\n",
    "import matplotlib.pyplot as plt\n",
    "from scipy import stats\n",
    "import seaborn as sns\n",
    "import json\n",
    "import urllib\n",
    "import urllib.request"
   ]
  },
  {
   "cell_type": "markdown",
   "metadata": {
    "id": "6FSsNlFwclVA"
   },
   "source": [
    "# spatial join"
   ]
  },
  {
   "cell_type": "code",
   "execution_count": 5,
   "metadata": {
    "colab": {
     "base_uri": "https://localhost:8080/",
     "height": 419
    },
    "executionInfo": {
     "elapsed": 11967,
     "status": "ok",
     "timestamp": 1618335816597,
     "user": {
      "displayName": "Jaehee Kim",
      "photoUrl": "",
      "userId": "18030231322356011220"
     },
     "user_tz": 240
    },
    "id": "l9OuR-qJi1pr",
    "outputId": "93695cd7-210f-43ec-8e78-9a1aee57d232"
   },
   "outputs": [
    {
     "data": {
      "text/html": [
       "<div>\n",
       "<style scoped>\n",
       "    .dataframe tbody tr th:only-of-type {\n",
       "        vertical-align: middle;\n",
       "    }\n",
       "\n",
       "    .dataframe tbody tr th {\n",
       "        vertical-align: top;\n",
       "    }\n",
       "\n",
       "    .dataframe thead th {\n",
       "        text-align: right;\n",
       "    }\n",
       "</style>\n",
       "<table border=\"1\" class=\"dataframe\">\n",
       "  <thead>\n",
       "    <tr style=\"text-align: right;\">\n",
       "      <th></th>\n",
       "      <th>station_id</th>\n",
       "      <th>lat</th>\n",
       "      <th>lng</th>\n",
       "    </tr>\n",
       "  </thead>\n",
       "  <tbody>\n",
       "    <tr>\n",
       "      <th>0</th>\n",
       "      <td>SF-M26</td>\n",
       "      <td>37.767088</td>\n",
       "      <td>-122.407380</td>\n",
       "    </tr>\n",
       "    <tr>\n",
       "      <th>1</th>\n",
       "      <td>SF-M25</td>\n",
       "      <td>37.767100</td>\n",
       "      <td>-122.410662</td>\n",
       "    </tr>\n",
       "    <tr>\n",
       "      <th>2</th>\n",
       "      <td>SF-M26-2</td>\n",
       "      <td>37.768568</td>\n",
       "      <td>-122.404238</td>\n",
       "    </tr>\n",
       "    <tr>\n",
       "      <th>3</th>\n",
       "      <td>SF-L26</td>\n",
       "      <td>37.769257</td>\n",
       "      <td>-122.407029</td>\n",
       "    </tr>\n",
       "    <tr>\n",
       "      <th>4</th>\n",
       "      <td>SF-L25</td>\n",
       "      <td>37.770037</td>\n",
       "      <td>-122.411798</td>\n",
       "    </tr>\n",
       "  </tbody>\n",
       "</table>\n",
       "</div>"
      ],
      "text/plain": [
       "  station_id        lat         lng\n",
       "0     SF-M26  37.767088 -122.407380\n",
       "1     SF-M25  37.767100 -122.410662\n",
       "2   SF-M26-2  37.768568 -122.404238\n",
       "3     SF-L26  37.769257 -122.407029\n",
       "4     SF-L25  37.770037 -122.411798"
      ]
     },
     "metadata": {},
     "output_type": "display_data"
    },
    {
     "name": "stdout",
     "output_type": "stream",
     "text": [
      "Number of rows: 253\n"
     ]
    }
   ],
   "source": [
    "st = pd.read_csv(get_path('data/exports/stations_san_francisco.csv'))\n",
    "summarize_df(st)"
   ]
  },
  {
   "cell_type": "code",
   "execution_count": 6,
   "metadata": {
    "colab": {
     "base_uri": "https://localhost:8080/",
     "height": 204
    },
    "executionInfo": {
     "elapsed": 22892,
     "status": "ok",
     "timestamp": 1618335827530,
     "user": {
      "displayName": "Jaehee Kim",
      "photoUrl": "",
      "userId": "18030231322356011220"
     },
     "user_tz": 240
    },
    "id": "_EmxYDd-dxtc",
    "outputId": "f5a90b20-70af-4494-8ae3-7e1c64773514"
   },
   "outputs": [
    {
     "data": {
      "text/html": [
       "<div>\n",
       "<style scoped>\n",
       "    .dataframe tbody tr th:only-of-type {\n",
       "        vertical-align: middle;\n",
       "    }\n",
       "\n",
       "    .dataframe tbody tr th {\n",
       "        vertical-align: top;\n",
       "    }\n",
       "\n",
       "    .dataframe thead th {\n",
       "        text-align: right;\n",
       "    }\n",
       "</style>\n",
       "<table border=\"1\" class=\"dataframe\">\n",
       "  <thead>\n",
       "    <tr style=\"text-align: right;\">\n",
       "      <th></th>\n",
       "      <th>DN</th>\n",
       "      <th>geometry</th>\n",
       "    </tr>\n",
       "  </thead>\n",
       "  <tbody>\n",
       "    <tr>\n",
       "      <th>0</th>\n",
       "      <td>1</td>\n",
       "      <td>POLYGON ((-122.37285 37.83322, -122.37276 37.8...</td>\n",
       "    </tr>\n",
       "    <tr>\n",
       "      <th>1</th>\n",
       "      <td>1</td>\n",
       "      <td>POLYGON ((-122.37294 37.83313, -122.37285 37.8...</td>\n",
       "    </tr>\n",
       "    <tr>\n",
       "      <th>2</th>\n",
       "      <td>1</td>\n",
       "      <td>POLYGON ((-122.37303 37.83304, -122.37294 37.8...</td>\n",
       "    </tr>\n",
       "    <tr>\n",
       "      <th>3</th>\n",
       "      <td>2</td>\n",
       "      <td>POLYGON ((-122.37312 37.83295, -122.37303 37.8...</td>\n",
       "    </tr>\n",
       "    <tr>\n",
       "      <th>4</th>\n",
       "      <td>1</td>\n",
       "      <td>POLYGON ((-122.37321 37.83286, -122.37312 37.8...</td>\n",
       "    </tr>\n",
       "  </tbody>\n",
       "</table>\n",
       "</div>"
      ],
      "text/plain": [
       "   DN                                           geometry\n",
       "0   1  POLYGON ((-122.37285 37.83322, -122.37276 37.8...\n",
       "1   1  POLYGON ((-122.37294 37.83313, -122.37285 37.8...\n",
       "2   1  POLYGON ((-122.37303 37.83304, -122.37294 37.8...\n",
       "3   2  POLYGON ((-122.37312 37.83295, -122.37303 37.8...\n",
       "4   1  POLYGON ((-122.37321 37.83286, -122.37312 37.8..."
      ]
     },
     "metadata": {},
     "output_type": "display_data"
    },
    {
     "name": "stdout",
     "output_type": "stream",
     "text": [
      "Number of rows: 218071\n"
     ]
    }
   ],
   "source": [
    "dem = gpd.read_file(get_path('data/shapefiles/dem/SF_final_DEM.shp'))\n",
    "summarize_df(dem)"
   ]
  },
  {
   "cell_type": "code",
   "execution_count": 7,
   "metadata": {
    "colab": {
     "base_uri": "https://localhost:8080/",
     "height": 204
    },
    "executionInfo": {
     "elapsed": 272,
     "status": "ok",
     "timestamp": 1618336778273,
     "user": {
      "displayName": "Jaehee Kim",
      "photoUrl": "",
      "userId": "18030231322356011220"
     },
     "user_tz": 240
    },
    "id": "RnbbReo7iAHS",
    "outputId": "83bf8f62-d45c-4464-e60f-a7634bbbd47b"
   },
   "outputs": [
    {
     "data": {
      "text/html": [
       "<div>\n",
       "<style scoped>\n",
       "    .dataframe tbody tr th:only-of-type {\n",
       "        vertical-align: middle;\n",
       "    }\n",
       "\n",
       "    .dataframe tbody tr th {\n",
       "        vertical-align: top;\n",
       "    }\n",
       "\n",
       "    .dataframe thead th {\n",
       "        text-align: right;\n",
       "    }\n",
       "</style>\n",
       "<table border=\"1\" class=\"dataframe\">\n",
       "  <thead>\n",
       "    <tr style=\"text-align: right;\">\n",
       "      <th></th>\n",
       "      <th>station_id</th>\n",
       "      <th>lat</th>\n",
       "      <th>lng</th>\n",
       "      <th>geometry</th>\n",
       "    </tr>\n",
       "  </thead>\n",
       "  <tbody>\n",
       "    <tr>\n",
       "      <th>0</th>\n",
       "      <td>SF-M26</td>\n",
       "      <td>37.767088</td>\n",
       "      <td>-122.407380</td>\n",
       "      <td>POINT (-122.40738 37.76709)</td>\n",
       "    </tr>\n",
       "    <tr>\n",
       "      <th>1</th>\n",
       "      <td>SF-M25</td>\n",
       "      <td>37.767100</td>\n",
       "      <td>-122.410662</td>\n",
       "      <td>POINT (-122.41066 37.76710)</td>\n",
       "    </tr>\n",
       "    <tr>\n",
       "      <th>2</th>\n",
       "      <td>SF-M26-2</td>\n",
       "      <td>37.768568</td>\n",
       "      <td>-122.404238</td>\n",
       "      <td>POINT (-122.40424 37.76857)</td>\n",
       "    </tr>\n",
       "    <tr>\n",
       "      <th>3</th>\n",
       "      <td>SF-L26</td>\n",
       "      <td>37.769257</td>\n",
       "      <td>-122.407029</td>\n",
       "      <td>POINT (-122.40703 37.76926)</td>\n",
       "    </tr>\n",
       "    <tr>\n",
       "      <th>4</th>\n",
       "      <td>SF-L25</td>\n",
       "      <td>37.770037</td>\n",
       "      <td>-122.411798</td>\n",
       "      <td>POINT (-122.41180 37.77004)</td>\n",
       "    </tr>\n",
       "  </tbody>\n",
       "</table>\n",
       "</div>"
      ],
      "text/plain": [
       "  station_id        lat         lng                     geometry\n",
       "0     SF-M26  37.767088 -122.407380  POINT (-122.40738 37.76709)\n",
       "1     SF-M25  37.767100 -122.410662  POINT (-122.41066 37.76710)\n",
       "2   SF-M26-2  37.768568 -122.404238  POINT (-122.40424 37.76857)\n",
       "3     SF-L26  37.769257 -122.407029  POINT (-122.40703 37.76926)\n",
       "4     SF-L25  37.770037 -122.411798  POINT (-122.41180 37.77004)"
      ]
     },
     "execution_count": 7,
     "metadata": {},
     "output_type": "execute_result"
    }
   ],
   "source": [
    "geometry = gpd.points_from_xy(st.lng, st.lat)\n",
    "gdf_dt = gpd.GeoDataFrame(st, geometry=geometry).set_crs('EPSG:4326')\n",
    "gdf_dt.head()"
   ]
  },
  {
   "cell_type": "code",
   "execution_count": 8,
   "metadata": {
    "colab": {
     "base_uri": "https://localhost:8080/",
     "height": 440
    },
    "executionInfo": {
     "elapsed": 613,
     "status": "ok",
     "timestamp": 1618336780562,
     "user": {
      "displayName": "Jaehee Kim",
      "photoUrl": "",
      "userId": "18030231322356011220"
     },
     "user_tz": 240
    },
    "id": "q7d_YYoPif20",
    "outputId": "2d001543-f744-4b53-f381-d6202eac3a75"
   },
   "outputs": [
    {
     "data": {
      "text/plain": [
       "<AxesSubplot:>"
      ]
     },
     "execution_count": 8,
     "metadata": {},
     "output_type": "execute_result"
    },
    {
     "data": {
      "image/png": "[encoded data removed]",
      "text/plain": [
       "<Figure size 576x576 with 1 Axes>"
      ]
     },
     "metadata": {
      "needs_background": "light"
     },
     "output_type": "display_data"
    }
   ],
   "source": [
    "gdf_dt.plot(figsize=(8,8))"
   ]
  },
  {
   "cell_type": "code",
   "execution_count": 9,
   "metadata": {
    "colab": {
     "base_uri": "https://localhost:8080/"
    },
    "executionInfo": {
     "elapsed": 462,
     "status": "ok",
     "timestamp": 1618336784124,
     "user": {
      "displayName": "Jaehee Kim",
      "photoUrl": "",
      "userId": "18030231322356011220"
     },
     "user_tz": 240
    },
    "id": "EzJbzLmKXxU6",
    "outputId": "39e9029c-63fc-4211-e78d-4241b899c218"
   },
   "outputs": [
    {
     "data": {
      "text/plain": [
       "<Geographic 2D CRS: EPSG:4326>\n",
       "Name: WGS 84\n",
       "Axis Info [ellipsoidal]:\n",
       "- Lat[north]: Geodetic latitude (degree)\n",
       "- Lon[east]: Geodetic longitude (degree)\n",
       "Area of Use:\n",
       "- name: World\n",
       "- bounds: (-180.0, -90.0, 180.0, 90.0)\n",
       "Datum: World Geodetic System 1984\n",
       "- Ellipsoid: WGS 84\n",
       "- Prime Meridian: Greenwich"
      ]
     },
     "execution_count": 9,
     "metadata": {},
     "output_type": "execute_result"
    }
   ],
   "source": [
    "gdf_dt.crs"
   ]
  },
  {
   "cell_type": "code",
   "execution_count": 10,
   "metadata": {
    "colab": {
     "base_uri": "https://localhost:8080/"
    },
    "executionInfo": {
     "elapsed": 368,
     "status": "ok",
     "timestamp": 1618336540400,
     "user": {
      "displayName": "Jaehee Kim",
      "photoUrl": "",
      "userId": "18030231322356011220"
     },
     "user_tz": 240
    },
    "id": "3hHQTCyqX8rm",
    "outputId": "788318ef-8ba5-4fd1-9da7-61f0ec55e972"
   },
   "outputs": [
    {
     "data": {
      "text/plain": [
       "<Geographic 2D CRS: EPSG:4326>\n",
       "Name: WGS 84\n",
       "Axis Info [ellipsoidal]:\n",
       "- Lat[north]: Geodetic latitude (degree)\n",
       "- Lon[east]: Geodetic longitude (degree)\n",
       "Area of Use:\n",
       "- name: World\n",
       "- bounds: (-180.0, -90.0, 180.0, 90.0)\n",
       "Datum: World Geodetic System 1984\n",
       "- Ellipsoid: WGS 84\n",
       "- Prime Meridian: Greenwich"
      ]
     },
     "execution_count": 10,
     "metadata": {},
     "output_type": "execute_result"
    }
   ],
   "source": [
    "dem.crs"
   ]
  },
  {
   "cell_type": "code",
   "execution_count": 11,
   "metadata": {
    "colab": {
     "base_uri": "https://localhost:8080/",
     "height": 502
    },
    "executionInfo": {
     "elapsed": 272,
     "status": "error",
     "timestamp": 1618336787389,
     "user": {
      "displayName": "Jaehee Kim",
      "photoUrl": "",
      "userId": "18030231322356011220"
     },
     "user_tz": 240
    },
    "id": "0budRajCig6B",
    "outputId": "b8f8a0f7-53f7-4f9d-afa1-db1c8c44a440"
   },
   "outputs": [
    {
     "data": {
      "text/html": [
       "<div>\n",
       "<style scoped>\n",
       "    .dataframe tbody tr th:only-of-type {\n",
       "        vertical-align: middle;\n",
       "    }\n",
       "\n",
       "    .dataframe tbody tr th {\n",
       "        vertical-align: top;\n",
       "    }\n",
       "\n",
       "    .dataframe thead th {\n",
       "        text-align: right;\n",
       "    }\n",
       "</style>\n",
       "<table border=\"1\" class=\"dataframe\">\n",
       "  <thead>\n",
       "    <tr style=\"text-align: right;\">\n",
       "      <th></th>\n",
       "      <th>station_id</th>\n",
       "      <th>lat</th>\n",
       "      <th>lng</th>\n",
       "      <th>geometry</th>\n",
       "      <th>index_right</th>\n",
       "      <th>DN</th>\n",
       "    </tr>\n",
       "  </thead>\n",
       "  <tbody>\n",
       "    <tr>\n",
       "      <th>0</th>\n",
       "      <td>SF-M26</td>\n",
       "      <td>37.767088</td>\n",
       "      <td>-122.407380</td>\n",
       "      <td>POINT (-122.40738 37.76709)</td>\n",
       "      <td>64457</td>\n",
       "      <td>12</td>\n",
       "    </tr>\n",
       "    <tr>\n",
       "      <th>1</th>\n",
       "      <td>SF-M25</td>\n",
       "      <td>37.767100</td>\n",
       "      <td>-122.410662</td>\n",
       "      <td>POINT (-122.41066 37.76710)</td>\n",
       "      <td>64694</td>\n",
       "      <td>15</td>\n",
       "    </tr>\n",
       "    <tr>\n",
       "      <th>2</th>\n",
       "      <td>SF-M26-2</td>\n",
       "      <td>37.768568</td>\n",
       "      <td>-122.404238</td>\n",
       "      <td>POINT (-122.40424 37.76857)</td>\n",
       "      <td>84409</td>\n",
       "      <td>4</td>\n",
       "    </tr>\n",
       "    <tr>\n",
       "      <th>5</th>\n",
       "      <td>SF-L27</td>\n",
       "      <td>37.771075</td>\n",
       "      <td>-122.402732</td>\n",
       "      <td>POINT (-122.40273 37.77108)</td>\n",
       "      <td>84409</td>\n",
       "      <td>4</td>\n",
       "    </tr>\n",
       "    <tr>\n",
       "      <th>6</th>\n",
       "      <td>SF-K26</td>\n",
       "      <td>37.771461</td>\n",
       "      <td>-122.405788</td>\n",
       "      <td>POINT (-122.40579 37.77146)</td>\n",
       "      <td>84409</td>\n",
       "      <td>4</td>\n",
       "    </tr>\n",
       "  </tbody>\n",
       "</table>\n",
       "</div>"
      ],
      "text/plain": [
       "  station_id        lat         lng                     geometry  index_right  \\\n",
       "0     SF-M26  37.767088 -122.407380  POINT (-122.40738 37.76709)        64457   \n",
       "1     SF-M25  37.767100 -122.410662  POINT (-122.41066 37.76710)        64694   \n",
       "2   SF-M26-2  37.768568 -122.404238  POINT (-122.40424 37.76857)        84409   \n",
       "5     SF-L27  37.771075 -122.402732  POINT (-122.40273 37.77108)        84409   \n",
       "6     SF-K26  37.771461 -122.405788  POINT (-122.40579 37.77146)        84409   \n",
       "\n",
       "   DN  \n",
       "0  12  \n",
       "1  15  \n",
       "2   4  \n",
       "5   4  \n",
       "6   4  "
      ]
     },
     "metadata": {},
     "output_type": "display_data"
    },
    {
     "name": "stdout",
     "output_type": "stream",
     "text": [
      "Number of rows: 253\n"
     ]
    }
   ],
   "source": [
    "dt_join2 = gpd.sjoin(gdf_dt, dem, op='within')\n",
    "summarize_df(dt_join2)"
   ]
  },
  {
   "cell_type": "code",
   "execution_count": 12,
   "metadata": {
    "executionInfo": {
     "elapsed": 23697,
     "status": "aborted",
     "timestamp": 1618335828359,
     "user": {
      "displayName": "Jaehee Kim",
      "photoUrl": "",
      "userId": "18030231322356011220"
     },
     "user_tz": 240
    },
    "id": "FVuok3rWpxwN"
   },
   "outputs": [],
   "source": [
    "dt_join2 = dt_join2[dt_join2['station_id'].notnull()]\n",
    "dt_join2_csv = dt_join2[['station_id', 'lat', 'lng', 'DN']].copy()\n",
    "dt_join2_csv.rename(columns={'DN': 'elevation'}, inplace=True)\n",
    "dt_join2_csv.to_csv(get_path('data/exports/SF_ele_single station.csv'), index=False)"
   ]
  }
 ],
 "metadata": {
  "colab": {
   "authorship_tag": "ABX9TyMwc6pq5qVuOAuFtmlWak9+",
   "collapsed_sections": [],
   "mount_file_id": "19X0gW3LQdVn-73SAsmd0mmxP3Nfk-Nym",
   "name": "SF elevation.ipynb",
   "provenance": []
  },
  "kernelspec": {
   "display_name": "Python 3",
   "language": "python",
   "name": "python3"
  },
  "language_info": {
   "codemirror_mode": {
    "name": "ipython",
    "version": 3
   },
   "file_extension": ".py",
   "mimetype": "text/x-python",
   "name": "python",
   "nbconvert_exporter": "python",
   "pygments_lexer": "ipython3",
   "version": "3.7.6"
  }
 },
 "nbformat": 4,
 "nbformat_minor": 4
}
