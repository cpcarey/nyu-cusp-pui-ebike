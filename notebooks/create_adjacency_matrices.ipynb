{
 "cells": [
  {
   "cell_type": "markdown",
   "id": "substantial-elimination",
   "metadata": {},
   "source": [
    "This notebook simply reads and displays the available shapefiles for visual validation."
   ]
  },
  {
   "cell_type": "code",
   "execution_count": 1,
   "id": "synthetic-establishment",
   "metadata": {},
   "outputs": [],
   "source": [
    "import geopandas as gpd\n",
    "import matplotlib.pyplot as plt\n",
    "import pandas as pd\n",
    "import seaborn as sns\n",
    "from functools import reduce\n",
    "from geopy import Point\n",
    "from geopy import distance\n",
    "\n",
    "import warnings\n",
    "warnings.filterwarnings('ignore')\n",
    "%matplotlib inline"
   ]
  },
  {
   "cell_type": "code",
   "execution_count": 2,
   "id": "incredible-caution",
   "metadata": {},
   "outputs": [],
   "source": [
    "class AnalysisConfig:\n",
    "    def __init__(self, csv_output_path='', stations_path=''):\n",
    "        self.csv_output_path = csv_output_path\n",
    "        self.stations_path = stations_path"
   ]
  },
  {
   "cell_type": "code",
   "execution_count": 3,
   "id": "occupational-athletics",
   "metadata": {},
   "outputs": [],
   "source": [
    "STATIONS_DIR = '../data/exports'\n",
    "SHAPEFILE_DIR = '../data/shapefiles/zipcodes'\n",
    "\n",
    "config_sf = AnalysisConfig(\n",
    "    csv_output_path = '{}/displacement_adjacency_matrix_san_francisco.csv'.format(STATIONS_DIR),\n",
    "    stations_path = '{}/stations_san_francisco.csv'.format(STATIONS_DIR),\n",
    ")\n",
    "\n",
    "config_dc = AnalysisConfig(\n",
    "    csv_output_path = '{}/displacement_adjacency_matrix_washington_dc.csv'.format(STATIONS_DIR),\n",
    "    stations_path = '{}/stations_washington_dc.csv'.format(STATIONS_DIR),\n",
    ")"
   ]
  },
  {
   "cell_type": "code",
   "execution_count": null,
   "id": "adult-chemical",
   "metadata": {},
   "outputs": [],
   "source": [
    "config = config_dc"
   ]
  },
  {
   "cell_type": "code",
   "execution_count": null,
   "id": "forbidden-tower",
   "metadata": {},
   "outputs": [],
   "source": [
    "def get_distance(point1, point2):\n",
    "    return distance.geodesic(point1, point2).m\n",
    "\n",
    "\n",
    "def get_point(station_id):\n",
    "    return Point(stations_df.loc[station_id]['lat'],\n",
    "                 stations_df.loc[station_id]['lng'])\n",
    "\n",
    "\n",
    "def get_displacement(station_id1, station_id2):\n",
    "    return get_distance(get_point(station_id1), get_point(station_id2))"
   ]
  },
  {
   "cell_type": "code",
   "execution_count": null,
   "id": "played-favorite",
   "metadata": {},
   "outputs": [
    {
     "data": {
      "text/html": [
       "<div>\n",
       "<style scoped>\n",
       "    .dataframe tbody tr th:only-of-type {\n",
       "        vertical-align: middle;\n",
       "    }\n",
       "\n",
       "    .dataframe tbody tr th {\n",
       "        vertical-align: top;\n",
       "    }\n",
       "\n",
       "    .dataframe thead th {\n",
       "        text-align: right;\n",
       "    }\n",
       "</style>\n",
       "<table border=\"1\" class=\"dataframe\">\n",
       "  <thead>\n",
       "    <tr style=\"text-align: right;\">\n",
       "      <th></th>\n",
       "      <th>lat</th>\n",
       "      <th>lng</th>\n",
       "    </tr>\n",
       "  </thead>\n",
       "  <tbody>\n",
       "    <tr>\n",
       "      <th>31000</th>\n",
       "      <td>38.858970</td>\n",
       "      <td>-77.053239</td>\n",
       "    </tr>\n",
       "    <tr>\n",
       "      <th>31001</th>\n",
       "      <td>38.857250</td>\n",
       "      <td>-77.053402</td>\n",
       "    </tr>\n",
       "    <tr>\n",
       "      <th>31002</th>\n",
       "      <td>38.856408</td>\n",
       "      <td>-77.049262</td>\n",
       "    </tr>\n",
       "    <tr>\n",
       "      <th>31003</th>\n",
       "      <td>38.860856</td>\n",
       "      <td>-77.049425</td>\n",
       "    </tr>\n",
       "    <tr>\n",
       "      <th>31004</th>\n",
       "      <td>38.857866</td>\n",
       "      <td>-77.059490</td>\n",
       "    </tr>\n",
       "  </tbody>\n",
       "</table>\n",
       "</div>"
      ],
      "text/plain": [
       "             lat        lng\n",
       "31000  38.858970 -77.053239\n",
       "31001  38.857250 -77.053402\n",
       "31002  38.856408 -77.049262\n",
       "31003  38.860856 -77.049425\n",
       "31004  38.857866 -77.059490"
      ]
     },
     "execution_count": 6,
     "metadata": {},
     "output_type": "execute_result"
    }
   ],
   "source": [
    "stations_df = pd.read_csv(config.stations_path)\n",
    "stations_df.set_index('station_id', inplace=True)\n",
    "stations_df.rename_axis(None, inplace=True)\n",
    "stations_df.head()"
   ]
  },
  {
   "cell_type": "code",
   "execution_count": null,
   "id": "intermediate-croatia",
   "metadata": {},
   "outputs": [],
   "source": [
    "adj_matrix = pd.DataFrame(index=stations_df.index,\n",
    "                          columns=stations_df.index)\n",
    "adj_matrix.rename_axis(None, inplace=True, axis=0)\n",
    "adj_matrix.rename_axis(None, inplace=True, axis=1)\n",
    "adj_matrix = adj_matrix.apply(lambda row: row.index.to_series().apply(lambda col_name: get_displacement(row.name, col_name)), axis=1)\n",
    "adj_matrix.head()"
   ]
  },
  {
   "cell_type": "code",
   "execution_count": null,
   "id": "encouraging-worship",
   "metadata": {},
   "outputs": [],
   "source": [
    "adj_matrix.to_csv(config.csv_output_path)"
   ]
  }
 ],
 "metadata": {
  "kernelspec": {
   "display_name": "Python 3",
   "language": "python",
   "name": "python3"
  },
  "language_info": {
   "codemirror_mode": {
    "name": "ipython",
    "version": 3
   },
   "file_extension": ".py",
   "mimetype": "text/x-python",
   "name": "python",
   "nbconvert_exporter": "python",
   "pygments_lexer": "ipython3",
   "version": "3.7.6"
  }
 },
 "nbformat": 4,
 "nbformat_minor": 5
}
